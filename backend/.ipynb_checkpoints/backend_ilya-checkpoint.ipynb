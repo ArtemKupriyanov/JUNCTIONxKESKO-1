{
 "cells": [
  {
   "cell_type": "code",
   "execution_count": 127,
   "metadata": {},
   "outputs": [],
   "source": [
    "import urllib\n",
    "import re"
   ]
  },
  {
   "cell_type": "code",
   "execution_count": 128,
   "metadata": {},
   "outputs": [],
   "source": [
    "questions = [\n",
    "    \"Is there any bread in the nearest shop?\", \n",
    "    \"Do you have bread in the nearest shop?\",\n",
    "    \"Where is the nearest shop?\"\n",
    "]"
   ]
  },
  {
   "cell_type": "code",
   "execution_count": null,
   "metadata": {},
   "outputs": [],
   "source": [
    "# жалоба\n",
    "# насколько healthy продукт\n",
    "# "
   ]
  },
  {
   "cell_type": "code",
   "execution_count": 129,
   "metadata": {},
   "outputs": [],
   "source": [
    "contains_substrings = [\n",
    "    \"is there\",\n",
    "    \"are there\",\n",
    "    \"do you have\"\n",
    "]\n",
    "\n",
    "information_substrings = [\n",
    "    \"tell me about\",\n",
    "]\n",
    "\n",
    "healthy_substrings = [\n",
    "    \"\"\n",
    "]\n",
    "\n",
    "nearest_substrings = [\n",
    "    \"where is\"\n",
    "]\n",
    "\n",
    "basic_stop_words = [\n",
    "    \"shop\", \"nearest\", \"in\", \"any\", \"store\", \"k-market\", \"the\", \"please\"\n",
    "]"
   ]
  },
  {
   "cell_type": "code",
   "execution_count": 130,
   "metadata": {},
   "outputs": [],
   "source": [
    "stop_words = set()\n",
    "for string in contains_substrings + nearest_substrings + basic_stop_words:\n",
    "    stop_words = stop_words.union(set(re.findall(r\"[\\w']+\", string)))"
   ]
  },
  {
   "cell_type": "code",
   "execution_count": 131,
   "metadata": {},
   "outputs": [
    {
     "data": {
      "text/plain": [
       "{'any', 'do', 'have', 'in', 'is', 'nearest', 'shop', 'there', 'where', 'you'}"
      ]
     },
     "execution_count": 131,
     "metadata": {},
     "output_type": "execute_result"
    }
   ],
   "source": [
    "stop_words"
   ]
  },
  {
   "cell_type": "code",
   "execution_count": 132,
   "metadata": {},
   "outputs": [],
   "source": [
    "def preprocessing_question(question):\n",
    "    return question.strip().lower()"
   ]
  },
  {
   "cell_type": "code",
   "execution_count": 133,
   "metadata": {},
   "outputs": [],
   "source": [
    "def classify_type(question):\n",
    "    if True in [question.startswith(substring) for substring in contains_substrings]:\n",
    "        return \"contains\"\n",
    "    if True in [question.startswith(substring) for substring in nearest_substrings]:\n",
    "        return \"nearest\"\n",
    "    return \"other\""
   ]
  },
  {
   "cell_type": "code",
   "execution_count": 134,
   "metadata": {},
   "outputs": [],
   "source": [
    "def get_contatins_answer(question):\n",
    "    set_of_words = set(re.findall(r\"[\\w']+\", question)) - stop_words\n",
    "    if len(set_of_words) == 1:\n",
    "        item = list(set_of_words)[0]\n",
    "    else:\n",
    "        item = \" \".join(list(set_of_words))\n",
    "    \n",
    "    shop = \"K-Market Otaniemi, adress: Otaniementie 12. Open till 23:00\"\n",
    "    answer = \"Yes, the item {} is in the nearest shop at {}\".format(item, shop)\n",
    "    return answer\n",
    "\n",
    "def get_nearest_answer(question):\n",
    "    shop = \"K-Market Otaniemi, adress: Otaniementie 12. Open till 23:00\"\n",
    "    answer = \"Nearest shop is {}\".format(shop)\n",
    "    return answer\n",
    "\n",
    "def get_other_answer(question):\n",
    "    return \"This type of query is currently not supported. Please wait for a response from the support service.\""
   ]
  },
  {
   "cell_type": "code",
   "execution_count": 135,
   "metadata": {},
   "outputs": [],
   "source": [
    "femida = {\n",
    "    \"contains\": get_contatins_answer,\n",
    "    \"nearest\": get_nearest_answer,\n",
    "    \"other\": get_other_answer\n",
    "}"
   ]
  },
  {
   "cell_type": "code",
   "execution_count": 136,
   "metadata": {},
   "outputs": [],
   "source": [
    "def parser_v0(question):\n",
    "    question = preprocessing_question(question)\n",
    "    type_answer = classify_type(question)\n",
    "    print(type_answer)\n",
    "    answer = femida[type_answer](question)\n",
    "    return answer"
   ]
  },
  {
   "cell_type": "code",
   "execution_count": 143,
   "metadata": {},
   "outputs": [],
   "source": [
    "def test():\n",
    "    for i, q in enumerate(questions):\n",
    "        answer = parser_v0(q)\n",
    "        print(\"q: {}\\na: {}\".format(q, answer))\n",
    "        print(\"=\" * 50)"
   ]
  },
  {
   "cell_type": "code",
   "execution_count": 144,
   "metadata": {},
   "outputs": [
    {
     "name": "stdout",
     "output_type": "stream",
     "text": [
      "contains\n",
      "q: Is there any bread in nearest shop?\n",
      "a: Yes, the product bread is in the nearest shop at K-Market Otaniemi, adress: Otaniementie 12\n",
      "==================================================\n",
      "contains\n",
      "q: Do you have bread in nearest shop?\n",
      "a: Yes, the product bread is in the nearest shop at K-Market Otaniemi, adress: Otaniementie 12\n",
      "==================================================\n",
      "nearest\n",
      "q: Where is the nearest shop?\n",
      "a: Nearest shop is K-Market Otaniemi, adress: Otaniementie 12. Open till 23:00\n",
      "==================================================\n"
     ]
    }
   ],
   "source": [
    "test()"
   ]
  },
  {
   "cell_type": "code",
   "execution_count": null,
   "metadata": {},
   "outputs": [],
   "source": []
  },
  {
   "cell_type": "code",
   "execution_count": null,
   "metadata": {},
   "outputs": [],
   "source": []
  }
 ],
 "metadata": {
  "kernelspec": {
   "display_name": "Environment (conda_anaconda3)",
   "language": "python",
   "name": "conda_anaconda3"
  },
  "language_info": {
   "codemirror_mode": {
    "name": "ipython",
    "version": 3
   },
   "file_extension": ".py",
   "mimetype": "text/x-python",
   "name": "python",
   "nbconvert_exporter": "python",
   "pygments_lexer": "ipython3",
   "version": "3.6.5"
  }
 },
 "nbformat": 4,
 "nbformat_minor": 2
}
