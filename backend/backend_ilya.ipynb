{
 "cells": [
  {
   "cell_type": "code",
   "execution_count": 1,
   "metadata": {},
   "outputs": [],
   "source": [
    "import urllib\n",
    "import re"
   ]
  },
  {
   "cell_type": "code",
   "execution_count": 2,
   "metadata": {},
   "outputs": [],
   "source": [
    "questions = [\n",
    "    [\"Where can I get milk\", \"contains\"],\n",
    "    [\"Is there any bread in the nearest shop?\", \"contains\"], \n",
    "    [\"Do you have bread in the nearest shop?\", \"contains\"],\n",
    "    [\"Where is the nearest shop?\", \"nearest\"],\n",
    "    [\"Is this mother healthy?\", \"healthy\"],\n",
    "    [\"Can I cook something with x, y, z, ...?\", \"recipes\"],\n",
    "    [\"Is there any recipe with x, ,y x,z  inside?\", \"recipes\"],\n",
    "    [\"What can I make/cook/produce from x, y, z, ?\", \"recipes\"]\n",
    "]"
   ]
  },
  {
   "cell_type": "code",
   "execution_count": 3,
   "metadata": {},
   "outputs": [],
   "source": [
    "contains_substrings = [\n",
    "    \"is there\",\n",
    "    \"are there\",\n",
    "    \"do you have\",\n",
    "    \"where can i get\"\n",
    "]\n",
    "\n",
    "information_substrings = [\n",
    "    \"tell me about\",\n",
    "]\n",
    "\n",
    "healthy_substrings = [\n",
    "    \"healthy\"\n",
    "]\n",
    "\n",
    "nearest_substrings = [\n",
    "    \"where is\"\n",
    "]\n",
    "\n",
    "recipes_substrings = [\n",
    "    \"can i cook\",\n",
    "    \"is there any recipe with\",\n",
    "    \"what can i make\",\n",
    "    \"what can i cook\",\n",
    "    \"what can i produce\"\n",
    "    \n",
    "]\n",
    "\n",
    "basic_stop_words = [\n",
    "    \"shop\", \"nearest\", \"in\", \"any\", \"store\", \"k-market\", \"the\", \"please\"\n",
    "]"
   ]
  },
  {
   "cell_type": "code",
   "execution_count": 4,
   "metadata": {},
   "outputs": [],
   "source": [
    "stop_words = set()\n",
    "for string in contains_substrings + nearest_substrings + basic_stop_words:\n",
    "    stop_words = stop_words.union(set(re.findall(r\"[\\w']+\", string)))"
   ]
  },
  {
   "cell_type": "code",
   "execution_count": 5,
   "metadata": {},
   "outputs": [
    {
     "data": {
      "text/plain": [
       "{'any',\n",
       " 'are',\n",
       " 'can',\n",
       " 'do',\n",
       " 'get',\n",
       " 'have',\n",
       " 'i',\n",
       " 'in',\n",
       " 'is',\n",
       " 'k',\n",
       " 'market',\n",
       " 'nearest',\n",
       " 'please',\n",
       " 'shop',\n",
       " 'store',\n",
       " 'the',\n",
       " 'there',\n",
       " 'where',\n",
       " 'you'}"
      ]
     },
     "execution_count": 5,
     "metadata": {},
     "output_type": "execute_result"
    }
   ],
   "source": [
    "stop_words"
   ]
  },
  {
   "cell_type": "code",
   "execution_count": 6,
   "metadata": {},
   "outputs": [],
   "source": [
    "def preprocessing_question(question):\n",
    "    return question.strip().lower()"
   ]
  },
  {
   "cell_type": "code",
   "execution_count": 7,
   "metadata": {},
   "outputs": [],
   "source": [
    "def classify_type(question):\n",
    "    if True in [question.startswith(substring) for substring in recipes_substrings]:\n",
    "        return \"recipes\"\n",
    "    if True in [question.startswith(substring) for substring in contains_substrings]:\n",
    "        return \"contains\"\n",
    "    if True in [question.startswith(substring) for substring in nearest_substrings]:\n",
    "        return \"nearest\"\n",
    "    if True in [substring in question for substring in healthy_substrings]:\n",
    "        return \"healthy\"\n",
    "    return \"other\""
   ]
  },
  {
   "cell_type": "code",
   "execution_count": 8,
   "metadata": {},
   "outputs": [],
   "source": [
    "def get_contatins_answer(question):\n",
    "    set_of_words = set(re.findall(r\"[\\w']+\", question)) - stop_words\n",
    "    if len(set_of_words) == 1:\n",
    "        item = list(set_of_words)[0]\n",
    "    else:\n",
    "        item = \" \".join(list(set_of_words))\n",
    "    \n",
    "    shop = \"K-Market Otaniemi, adress: Otaniementie 12. Open till 23:00\"\n",
    "    answer = \"Yes, the item {} is in the nearest shop at {}\".format(item, shop)\n",
    "    \n",
    "    \n",
    "    \n",
    "    \n",
    "    return answer\n",
    "\n",
    "def get_nearest_answer(question):\n",
    "    shop = \"K-Market Otaniemi, adress: Otaniementie 12. Open till 23:00\"\n",
    "    answer = \"Nearest shop is {}\".format(shop)\n",
    "    return answer\n",
    "\n",
    "def get_healthy_answer(question):\n",
    "    shop = \"K-Market Otaniemi, adress: Otaniementie 12. Open till 23:00\"\n",
    "    answer = \"Is healthy\"\n",
    "    return answer\n",
    "\n",
    "def get_recipes_answer(question):\n",
    "    answer = \"Is recipe\"\n",
    "    return answer\n",
    "\n",
    "def get_other_answer(question):\n",
    "    return \"This type of query is currently not supported. Please wait for a response from the support service.\""
   ]
  },
  {
   "cell_type": "code",
   "execution_count": 9,
   "metadata": {},
   "outputs": [],
   "source": [
    "femida = {\n",
    "    \"contains\": get_contatins_answer,\n",
    "    \"nearest\": get_nearest_answer,\n",
    "    \"healthy\": get_healthy_answer,\n",
    "    \"other\": get_other_answer,\n",
    "    \"recipes\": get_recipes_answer\n",
    "}"
   ]
  },
  {
   "cell_type": "code",
   "execution_count": 10,
   "metadata": {},
   "outputs": [],
   "source": [
    "def parser_v0(question):\n",
    "    question = preprocessing_question(question)\n",
    "    type_answer = classify_type(question)\n",
    "    print(type_answer)\n",
    "    answer = femida[type_answer](question)\n",
    "    return answer"
   ]
  },
  {
   "cell_type": "code",
   "execution_count": 11,
   "metadata": {},
   "outputs": [],
   "source": [
    "def test():\n",
    "    for i, q_t in enumerate(questions):\n",
    "        q, true_answer = q_t\n",
    "        answer = parser_v0(q)\n",
    "        print(true_answer)\n",
    "        print(\"q: {}\\na: {}\".format(q, answer))\n",
    "        print(\"=\" * 50)"
   ]
  },
  {
   "cell_type": "code",
   "execution_count": 12,
   "metadata": {},
   "outputs": [
    {
     "name": "stdout",
     "output_type": "stream",
     "text": [
      "contains\n",
      "contains\n",
      "q: Where can I get milk\n",
      "a: Yes, the item milk is in the nearest shop at K-Market Otaniemi, adress: Otaniementie 12. Open till 23:00\n",
      "==================================================\n",
      "contains\n",
      "contains\n",
      "q: Is there any bread in the nearest shop?\n",
      "a: Yes, the item bread is in the nearest shop at K-Market Otaniemi, adress: Otaniementie 12. Open till 23:00\n",
      "==================================================\n",
      "contains\n",
      "contains\n",
      "q: Do you have bread in the nearest shop?\n",
      "a: Yes, the item bread is in the nearest shop at K-Market Otaniemi, adress: Otaniementie 12. Open till 23:00\n",
      "==================================================\n",
      "nearest\n",
      "nearest\n",
      "q: Where is the nearest shop?\n",
      "a: Nearest shop is K-Market Otaniemi, adress: Otaniementie 12. Open till 23:00\n",
      "==================================================\n",
      "healthy\n",
      "healthy\n",
      "q: Is this mother healthy?\n",
      "a: Is healthy\n",
      "==================================================\n",
      "recipes\n",
      "recipes\n",
      "q: Can I cook something with x, y, z, ...?\n",
      "a: Is recipe\n",
      "==================================================\n",
      "recipes\n",
      "recipes\n",
      "q: Is there any recipe with x, ,y x,z  inside?\n",
      "a: Is recipe\n",
      "==================================================\n",
      "recipes\n",
      "recipes\n",
      "q: What can I make/cook/produce from x, y, z, ?\n",
      "a: Is recipe\n",
      "==================================================\n"
     ]
    }
   ],
   "source": [
    "test()"
   ]
  },
  {
   "cell_type": "code",
   "execution_count": null,
   "metadata": {},
   "outputs": [],
   "source": []
  },
  {
   "cell_type": "code",
   "execution_count": null,
   "metadata": {},
   "outputs": [],
   "source": []
  },
  {
   "cell_type": "code",
   "execution_count": null,
   "metadata": {},
   "outputs": [],
   "source": [
    "def get_shops_by_item_name(item_name):\n",
    "    "
   ]
  },
  {
   "cell_type": "code",
   "execution_count": null,
   "metadata": {},
   "outputs": [],
   "source": []
  },
  {
   "cell_type": "code",
   "execution_count": null,
   "metadata": {},
   "outputs": [],
   "source": []
  }
 ],
 "metadata": {
  "kernelspec": {
   "display_name": "Environment (conda_anaconda3)",
   "language": "python",
   "name": "conda_anaconda3"
  },
  "language_info": {
   "codemirror_mode": {
    "name": "ipython",
    "version": 3
   },
   "file_extension": ".py",
   "mimetype": "text/x-python",
   "name": "python",
   "nbconvert_exporter": "python",
   "pygments_lexer": "ipython3",
   "version": "3.6.5"
  }
 },
 "nbformat": 4,
 "nbformat_minor": 2
}
