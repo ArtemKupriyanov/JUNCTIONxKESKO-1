{
 "cells": [
  {
   "cell_type": "code",
   "execution_count": 332,
   "metadata": {},
   "outputs": [
    {
     "name": "stdout",
     "output_type": "stream",
     "text": [
      "The autoreload extension is already loaded. To reload it, use:\n",
      "  %reload_ext autoreload\n"
     ]
    }
   ],
   "source": [
    "%load_ext autoreload\n",
    "%autoreload 2"
   ]
  },
  {
   "cell_type": "code",
   "execution_count": 333,
   "metadata": {},
   "outputs": [],
   "source": [
    "import urllib\n",
    "import re\n",
    "import parsing_nearest\n",
    "import parsing_healthy"
   ]
  },
  {
   "cell_type": "code",
   "execution_count": 335,
   "metadata": {},
   "outputs": [],
   "source": [
    "items = {\n",
    "\"eggs\", \"almond\", \"cucumber\", \"meat(pork)\", \n",
    "    \"chickpeas\", \"chicken\", \"fish\", \"broccoli\", \n",
    "    \"butter\", \"tofu\", \"milk\", \"bread\", \n",
    "    \"mustard\", \"ketchup\", \"apple\", \n",
    "    \"honey\", \"cheese\", \"tomato\", \n",
    "    \"shrimp\", \"potato\", \"yogurt\", \n",
    "    \"mushrooms\", \"chocolate\", \"juice\", \"sausages\"}"
   ]
  },
  {
   "cell_type": "code",
   "execution_count": null,
   "metadata": {},
   "outputs": [],
   "source": []
  },
  {
   "cell_type": "code",
   "execution_count": 334,
   "metadata": {},
   "outputs": [],
   "source": [
    "questions = [\n",
    "    [\"Where can I get milk?\", \"contains\"],\n",
    "    [\"Is there any bread in the nearest shop?\", \"contains\"], \n",
    "    [\"Do you have bread in the nearest shop?\", \"contains\"],\n",
    "    [\"Where is the nearest shop?\", \"nearest\"],\n",
    "    [\"Is this mother healthy?\", \"healthy\"],\n",
    "    [\"Can I cook something with x, y, z, ...?\", \"recipes\"],\n",
    "    [\"Is there any recipe with x, ,y x,z  inside?\", \"recipes\"],\n",
    "    [\"What can I make/cook/produce from x, y, z, ?\", \"recipes\"]\n",
    "]"
   ]
  },
  {
   "cell_type": "code",
   "execution_count": 319,
   "metadata": {},
   "outputs": [],
   "source": [
    "contains_substrings = [\n",
    "    \"is there\",\n",
    "    \"are there\",\n",
    "    \"do you have\",\n",
    "    \"where can i get\"\n",
    "]\n",
    "\n",
    "information_substrings = [\n",
    "    \"tell me about\",\n",
    "]\n",
    "\n",
    "healthy_substrings = [\n",
    "    \"healthy\"\n",
    "]\n",
    "\n",
    "nearest_substrings = [\n",
    "    \"where is\"\n",
    "]\n",
    "\n",
    "recipes_substrings = [\n",
    "    \"can i cook\",\n",
    "    \"is there any recipe with\",\n",
    "    \"what can i make\",\n",
    "    \"what can i cook\",\n",
    "    \"what can i produce\"   \n",
    "]\n",
    "\n",
    "hello_substrings = [\n",
    "    \"hello\", \"hi\"\n",
    "]\n",
    "basic_stop_words = [\n",
    "    \"shop\", \"nearest\", \"in\", \"any\", \"store\", \"k-market\", \"the\", \"please\", \"at\", \"inside\", \"this\"\n",
    "]"
   ]
  },
  {
   "cell_type": "code",
   "execution_count": 320,
   "metadata": {},
   "outputs": [],
   "source": [
    "stop_words = set()\n",
    "for string in contains_substrings + hello_substrings + information_substrings + healthy_substrings + nearest_substrings + recipes_substrings + basic_stop_words:\n",
    "    stop_words = stop_words.union(set(re.findall(r\"[\\w']+\", string)))"
   ]
  },
  {
   "cell_type": "code",
   "execution_count": 321,
   "metadata": {},
   "outputs": [
    {
     "data": {
      "text/plain": [
       "{'about',\n",
       " 'any',\n",
       " 'are',\n",
       " 'can',\n",
       " 'cook',\n",
       " 'do',\n",
       " 'get',\n",
       " 'have',\n",
       " 'healthy',\n",
       " 'hello',\n",
       " 'hi',\n",
       " 'i',\n",
       " 'in',\n",
       " 'is',\n",
       " 'k',\n",
       " 'make',\n",
       " 'market',\n",
       " 'me',\n",
       " 'nearest',\n",
       " 'please',\n",
       " 'produce',\n",
       " 'recipe',\n",
       " 'shop',\n",
       " 'store',\n",
       " 'tell',\n",
       " 'the',\n",
       " 'there',\n",
       " 'this',\n",
       " 'what',\n",
       " 'where',\n",
       " 'with',\n",
       " 'you'}"
      ]
     },
     "execution_count": 321,
     "metadata": {},
     "output_type": "execute_result"
    }
   ],
   "source": [
    "stop_words"
   ]
  },
  {
   "cell_type": "code",
   "execution_count": 322,
   "metadata": {},
   "outputs": [],
   "source": [
    "def preprocessing_question(question):\n",
    "    return question.strip().lower()"
   ]
  },
  {
   "cell_type": "code",
   "execution_count": 323,
   "metadata": {},
   "outputs": [],
   "source": [
    "def classify_type(question):\n",
    "    if True in [question.startswith(substring) for substring in recipes_substrings]:\n",
    "        return \"recipes\"\n",
    "    if True in [question.startswith(substring) for substring in contains_substrings]:\n",
    "        return \"contains\"\n",
    "    if True in [question.startswith(substring) for substring in nearest_substrings]:\n",
    "        return \"nearest\"\n",
    "    if True in [substring in question for substring in healthy_substrings]:\n",
    "        return \"healthy\"\n",
    "    \n",
    "    if question == \"yes\":\n",
    "        return \"yesno\"\n",
    "    \n",
    "    return \"other\""
   ]
  },
  {
   "cell_type": "code",
   "execution_count": 326,
   "metadata": {},
   "outputs": [],
   "source": [
    "def get_contatins_answer(question):\n",
    "    set_of_words = set(re.findall(r\"[\\w']+\", question)) - stop_words\n",
    "    list_items = []\n",
    "    for item in set_of_words:\n",
    "        if item in items:\n",
    "            list_items.append(item)\n",
    "    if len(list_items) == 0:\n",
    "        if len(set_of_words) == 1:\n",
    "            item = list(set_of_words)[0]\n",
    "        else:\n",
    "            item = \" \".join(list(set_of_words))\n",
    "    else:\n",
    "        item = \" \".join(list_items)\n",
    "    print(item)\n",
    "    \n",
    "    if \"nearest\" in question:\n",
    "        # stas\n",
    "        response, finnish_name = parsing_nearest.get_matches(name=item)\n",
    "        if response:\n",
    "            shop = \"K-Market Otaniemi, adress: Otaniementie 12. Open till 23:00\"\n",
    "            return \"Yes, your favorite '{}' is in the nearest shop at {}\".format(finnish_name, shop)\n",
    "        else:\n",
    "            return \"Unfortunately we don't have '{}' available in your closest shop. Would like having the opportunity to buy this item again? Please answer 'yes/no'\".format(finnish_name)\n",
    "    else:\n",
    "        # ilya\n",
    "        shop = \"K-Market Otaniemi, adress: Otaniementie 12. Open till 23:00\"\n",
    "        answer = \"Yes, the item '{}' is in the nearest shop at {}\".format(item, shop)\n",
    "        return answer\n",
    "\n",
    "def get_nearest_answer(question):\n",
    "    shop = \"K-Market Otaniemi, adress: Otaniementie 12. Open till 23:00\"\n",
    "    answer = \"Nearest shop is {}\".format(shop)\n",
    "    return answer\n",
    "\n",
    "def get_healthy_answer(question):\n",
    "    set_of_words = set(re.findall(r\"[\\w']+\", question)) - stop_words\n",
    "    list_items = []\n",
    "    for item in set_of_words:\n",
    "        if item in items:\n",
    "            list_items.append(item)\n",
    "    if len(list_items) == 0:\n",
    "        if len(set_of_words) == 1:\n",
    "            item = list(set_of_words)[0]\n",
    "        else:\n",
    "            item = \" \".join(list(set_of_words))\n",
    "    else:\n",
    "        item = \" \".join(list_items)\n",
    "    print(item)\n",
    "    answer = parsing_healthy.get_healthy_info(name=item)\n",
    "    return answer\n",
    "\n",
    "def get_recipes_answer(question):\n",
    "    answer = \"Is recipe\"\n",
    "    return answer\n",
    "\n",
    "def get_yesno_answer(question):\n",
    "    if \"yes\" == question:\n",
    "        return \"Thank you for your request. If we accumulate enought votes, you will shortly find this item at your closest shop\"\n",
    "    if \"no\" == question:\n",
    "        return \"Thank you for your answer! If you change your mind, ask me again.\"\n",
    "    return \"Please answer 'yes/no'\"\n",
    "\n",
    "def get_other_answer(question):\n",
    "    return \"This type of query is currently not supported. Please wait for a response from the support service.\""
   ]
  },
  {
   "cell_type": "code",
   "execution_count": 327,
   "metadata": {},
   "outputs": [],
   "source": [
    "femida = {\n",
    "    \"contains\": get_contatins_answer,\n",
    "    \"nearest\": get_nearest_answer,\n",
    "    \"healthy\": get_healthy_answer,\n",
    "    \"other\": get_other_answer,\n",
    "    \"recipes\": get_recipes_answer,\n",
    "    \"yesno\": get_yesno_answer\n",
    "}"
   ]
  },
  {
   "cell_type": "code",
   "execution_count": 328,
   "metadata": {},
   "outputs": [],
   "source": [
    "def parser_v0(question):\n",
    "    question = preprocessing_question(question)\n",
    "    type_answer = classify_type(question)\n",
    "    print(type_answer)\n",
    "    answer = femida[type_answer](question)\n",
    "    return answer"
   ]
  },
  {
   "cell_type": "code",
   "execution_count": 329,
   "metadata": {},
   "outputs": [],
   "source": [
    "def test():\n",
    "    for i, q_t in enumerate(questions):\n",
    "        q, true_answer = q_t\n",
    "        answer = parser_v0(q)\n",
    "        print(true_answer)\n",
    "        print(\"q: {}\\na: {}\".format(q, answer))\n",
    "        print(\"=\" * 50)"
   ]
  },
  {
   "cell_type": "code",
   "execution_count": 330,
   "metadata": {},
   "outputs": [
    {
     "name": "stdout",
     "output_type": "stream",
     "text": [
      "contains\n",
      "milk\n",
      "contains\n",
      "q: Where can I get milk?\n",
      "a: Yes, the item milk is in the nearest shop at K-Market Otaniemi, adress: Otaniementie 12. Open till 23:00\n",
      "==================================================\n",
      "contains\n",
      "bread\n",
      "(True, 'Semper Toasty Puhdas Kaura gluteeniton leipä')\n",
      "contains\n",
      "q: Is there any bread in the nearest shop?\n",
      "a: Yes, the Semper Toasty Puhdas Kaura gluteeniton leipä is in the nearest shop at K-Market Otaniemi, adress: Otaniementie 12. Open till 23:00\n",
      "==================================================\n",
      "contains\n",
      "bread\n",
      "(True, 'Semper Toasty Puhdas Kaura gluteeniton leipä')\n",
      "contains\n",
      "q: Do you have bread in the nearest shop?\n",
      "a: Yes, the Semper Toasty Puhdas Kaura gluteeniton leipä is in the nearest shop at K-Market Otaniemi, adress: Otaniementie 12. Open till 23:00\n",
      "==================================================\n",
      "nearest\n",
      "nearest\n",
      "q: Where is the nearest shop?\n",
      "a: Nearest shop is K-Market Otaniemi, adress: Otaniementie 12. Open till 23:00\n",
      "==================================================\n",
      "healthy\n",
      "mother\n",
      "healthy\n",
      "q: Is this mother healthy?\n",
      "a: Is healthy\n",
      "==================================================\n",
      "recipes\n",
      "recipes\n",
      "q: Can I cook something with x, y, z, ...?\n",
      "a: Is recipe\n",
      "==================================================\n",
      "recipes\n",
      "recipes\n",
      "q: Is there any recipe with x, ,y x,z  inside?\n",
      "a: Is recipe\n",
      "==================================================\n",
      "recipes\n",
      "recipes\n",
      "q: What can I make/cook/produce from x, y, z, ?\n",
      "a: Is recipe\n",
      "==================================================\n"
     ]
    }
   ],
   "source": [
    "test()"
   ]
  },
  {
   "cell_type": "code",
   "execution_count": null,
   "metadata": {},
   "outputs": [],
   "source": []
  },
  {
   "cell_type": "code",
   "execution_count": null,
   "metadata": {},
   "outputs": [],
   "source": []
  }
 ],
 "metadata": {
  "kernelspec": {
   "display_name": "Environment (conda_anaconda3)",
   "language": "python",
   "name": "conda_anaconda3"
  },
  "language_info": {
   "codemirror_mode": {
    "name": "ipython",
    "version": 3
   },
   "file_extension": ".py",
   "mimetype": "text/x-python",
   "name": "python",
   "nbconvert_exporter": "python",
   "pygments_lexer": "ipython3",
   "version": "3.6.5"
  }
 },
 "nbformat": 4,
 "nbformat_minor": 2
}
